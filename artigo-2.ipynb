{
 "cells": [
  {
   "cell_type": "markdown",
   "metadata": {},
   "source": [
    "## Pré processamento"
   ]
  },
  {
   "cell_type": "code",
   "execution_count": null,
   "metadata": {},
   "outputs": [],
   "source": [
    "def plotHistogramaReduzido(preditores_arg):\n",
    "    preditores_arg = preditores_arg[['sulphates', 'residual sugar']]\n",
    "    \n",
    "    preditores = centralizacao(preditores_arg).values\n",
    "    preditores = power_transform(preditores, method='yeo-johnson')\n",
    "    \n",
    "    print('Média preditores pré-processados: ', preditores[:, 0].mean())\n",
    "    print('Média preditores brutos ', preditores_arg['sulphates'].mean())\n",
    "    \n",
    "    print('Desvio Padrão preditores pré-processados: ' ,preditores[:, 0].std())\n",
    "    print('Desvio Padrão Preditores Brutos', preditores_arg['sulphates'].std())\n",
    "    plt.figure(figsize=(6, 5))\n",
    "    \n",
    "    plt.subplot(1, 2, 1)  # 1 linha, 2 colunas, primeiro subplot\n",
    "    plt.hist(preditores_arg['sulphates'], bins=20, color='red', alpha=0.7)\n",
    "    plt.title('Antes do pré-processamento')\n",
    "    \n",
    "    plt.subplot(1, 2, 2)\n",
    "    plt.hist(preditores[:, 0], bins= 20, color='blue', alpha=0.7)\n",
    "    plt.title('Depois do pré-processamento')\n",
    "    \n",
    "    plt.suptitle('Comparação concentração de sulfatos antes e depois do pré-processamento')\n",
    "    plt.tight_layout()\n",
    "    \n",
    "    plt.show()\n",
    "    \n",
    "plotHistogramaReduzido(preditores)     "
   ]
  },
  {
   "cell_type": "markdown",
   "metadata": {},
   "source": [
    "## PLOTS - PCR"
   ]
  },
  {
   "cell_type": "code",
   "execution_count": null,
   "metadata": {},
   "outputs": [
    {
     "name": "stdout",
     "output_type": "stream",
     "text": [
      "Rmse para as previsões de teste:0.742523905668549\n",
      "R2 para as previsões de teste: 0.628945351280719\n"
     ]
    }
   ],
   "source": [
    "resultadoPCR2Preditores = PCRSemCross(preditores,alvos, 8)\n",
    "print(f\"Rmse para as previsões de teste:{resultadoPCR2Preditores['Rmse']}\")\n",
    "print(f\"R2 para as previsões de teste: {resultadoPCR2Preditores['R2']}\")"
   ]
  },
  {
   "cell_type": "code",
   "execution_count": null,
   "metadata": {},
   "outputs": [
    {
     "name": "stdout",
     "output_type": "stream",
     "text": [
      "Rmse para as previsões de teste:0.7514716068399632\n",
      "R2 para as previsões de teste: 0.6199487647668984\n"
     ]
    }
   ],
   "source": [
    "resultadoPCR2Preditores = PCRSemCross(preditores,alvos, 5)\n",
    "print(f\"Rmse para as previsões de teste:{resultadoPCR2Preditores['Rmse']}\")\n",
    "print(f\"R2 para as previsões de teste: {resultadoPCR2Preditores['R2']}\")"
   ]
  }
 ],
 "metadata": {
  "language_info": {
   "name": "python"
  }
 },
 "nbformat": 4,
 "nbformat_minor": 2
}
